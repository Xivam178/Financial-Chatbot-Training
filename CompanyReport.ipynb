{
  "nbformat": 4,
  "nbformat_minor": 0,
  "metadata": {
    "colab": {
      "provenance": []
    },
    "kernelspec": {
      "name": "python3",
      "display_name": "Python 3"
    },
    "language_info": {
      "name": "python"
    }
  },
  "cells": [
    {
      "cell_type": "code",
      "source": [
        "import pandas as pd\n",
        "\n",
        "# Define the path to your Excel file\n",
        "file_path = '/content/Final_report.csv'\n",
        "\n",
        "# Read the Excel file\n",
        "df = pd.read_csv(file_path)\n",
        "\n",
        "# Display the first few rows of the DataFrame to understand its structure\n",
        "print(df.head())\n",
        "# Print column names to verify\n",
        "print(df.columns)\n"
      ],
      "metadata": {
        "colab": {
          "base_uri": "https://localhost:8080/"
        },
        "id": "AxgoTc7jttk4",
        "outputId": "a594a2ae-967f-42d9-ec97-8db0fe8f714d"
      },
      "execution_count": 33,
      "outputs": [
        {
          "output_type": "stream",
          "name": "stdout",
          "text": [
            "   Year  Total Revenue  Net Income  Total Assets  Total Liabilities  \\\n",
            "0  2023         211915       72361        411976             205753   \n",
            "1  2022         198270       72738        364840             198298   \n",
            "2  2021         168088       61271        333779             191791   \n",
            "3  2023          96773       14974        106618              43009   \n",
            "4  2022          81462       12556         82338              36440   \n",
            "\n",
            "   Cash Flow from Operating Activities    Company  \n",
            "0                                87582  Microsoft  \n",
            "1                                89035  Microsoft  \n",
            "2                                76740  Microsoft  \n",
            "3                                13256      Tesla  \n",
            "4                                14724      Tesla  \n",
            "Index(['Year', 'Total Revenue', 'Net Income', 'Total Assets',\n",
            "       'Total Liabilities', 'Cash Flow from Operating Activities', 'Company'],\n",
            "      dtype='object')\n"
          ]
        }
      ]
    },
    {
      "cell_type": "code",
      "source": [
        "\n",
        "\n",
        "# Calculate year-over-year growth rates for Total Revenue and Net Income\n",
        "df['Revenue Growth (%)'] = df.groupby('Company')['Total Revenue'].pct_change() * 100\n",
        "df['Net Income Growth (%)'] = df.groupby('Company')['Net Income'].pct_change() * 100\n",
        "\n",
        "# Fill NA values that result from pct_change calculations with 0 or an appropriate value\n",
        "df.fillna(0, inplace=True)\n",
        "\n",
        "# Display the dataframe to verify the calculations\n",
        "print(df)\n",
        "\n",
        "# Optionally, you could summarize these findings for each company\n",
        "summary = df.groupby('Company').agg({\n",
        "    'Revenue Growth (%)': 'mean',\n",
        "    'Net Income Growth (%)': 'mean'\n",
        "}).reset_index()\n",
        "\n",
        "print(\"\\nYear-over-Year Average Growth Rates (%):\")\n",
        "print(summary)"
      ],
      "metadata": {
        "colab": {
          "base_uri": "https://localhost:8080/"
        },
        "id": "oUxy7vFW65rn",
        "outputId": "460afe25-9eac-4921-f80e-14e5e8847c14"
      },
      "execution_count": 35,
      "outputs": [
        {
          "output_type": "stream",
          "name": "stdout",
          "text": [
            "   Year  Total Revenue  Net Income  Total Assets  Total Liabilities  \\\n",
            "0  2023         211915       72361        411976             205753   \n",
            "1  2022         198270       72738        364840             198298   \n",
            "2  2021         168088       61271        333779             191791   \n",
            "3  2023          96773       14974        106618              43009   \n",
            "4  2022          81462       12556         82338              36440   \n",
            "5  2021          53821        5519         62131              30548   \n",
            "6  2023         383285       96995        352583             290437   \n",
            "7  2022         394328       99803        352755             302083   \n",
            "8  2021         365817       94680        351002             287912   \n",
            "\n",
            "   Cash Flow from Operating Activities    Company  Revenue Growth (%)  \\\n",
            "0                                87582  Microsoft            0.000000   \n",
            "1                                89035  Microsoft           -6.438902   \n",
            "2                                76740  Microsoft          -15.222676   \n",
            "3                                13256      Tesla            0.000000   \n",
            "4                                14724      Tesla          -15.821562   \n",
            "5                                11497      Tesla          -33.931158   \n",
            "6                               110543      Apple            0.000000   \n",
            "7                               122151      Apple            2.881146   \n",
            "8                               104038      Apple           -7.230275   \n",
            "\n",
            "   Net Income Growth (%)  \n",
            "0               0.000000  \n",
            "1               0.520999  \n",
            "2             -15.764800  \n",
            "3               0.000000  \n",
            "4             -16.147990  \n",
            "5             -56.044919  \n",
            "6               0.000000  \n",
            "7               2.894995  \n",
            "8              -5.133112  \n",
            "\n",
            "Year-over-Year Average Growth Rates (%):\n",
            "     Company  Revenue Growth (%)  Net Income Growth (%)\n",
            "0      Apple           -1.449710              -0.746039\n",
            "1  Microsoft           -7.220526              -5.081267\n",
            "2      Tesla          -16.584240             -24.064303\n"
          ]
        }
      ]
    },
    {
      "cell_type": "code",
      "source": [],
      "metadata": {
        "id": "V_zaaNJE652e"
      },
      "execution_count": null,
      "outputs": []
    }
  ]
}